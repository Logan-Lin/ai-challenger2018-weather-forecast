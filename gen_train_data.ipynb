{
 "cells": [
  {
   "cell_type": "code",
   "execution_count": 1,
   "metadata": {},
   "outputs": [],
   "source": [
    "import os\n",
    "import numpy as np\n",
    "import pandas as pd\n",
    "import pickle"
   ]
  },
  {
   "cell_type": "code",
   "execution_count": 2,
   "metadata": {},
   "outputs": [],
   "source": [
    "from load_data import *\n",
    "from generate_set import *"
   ]
  },
  {
   "cell_type": "code",
   "execution_count": 15,
   "metadata": {
    "collapsed": true
   },
   "outputs": [
    {
     "name": "stdout",
     "output_type": "stream",
     "text": [
      "Loading netCDF4 file data/ai_challenger_wf2018_testb4_20180829-20181031.nc\n",
      "Loading station 90001\n",
      "Loading station 90002\n",
      "Loading station 90003\n",
      "Loading station 90004\n",
      "Loading station 90005\n",
      "Loading station 90006\n",
      "Loading station 90007\n",
      "Loading station 90008\n",
      "Loading station 90009\n",
      "Loading station 90010\n"
     ]
    }
   ],
   "source": [
    "t_raw = pd.read_pickle(os.path.join('dataframes', 'train_raw.pkl'))\n",
    "v_raw = pd.read_pickle(os.path.join('dataframes', 'validation_raw.pkl'))\n",
    "test_b1 = load_raw_file(os.path.join('data', 'ai_challenger_wf2018_testb4_20180829-20181031.nc'))\n",
    "all_raw = pd.concat([t_raw, v_raw, test_b1])"
   ]
  },
  {
   "cell_type": "code",
   "execution_count": 4,
   "metadata": {},
   "outputs": [],
   "source": [
    "periods = [('2015-10-15 03:00:00', '2015-11-15 03:00:00'), \n",
    "           ('2016-10-15 03:00:00', '2016-11-15 03:00:00'), \n",
    "          ('2017-10-15 03:00:00', '2017-11-15 03:00:00')]"
   ]
  },
  {
   "cell_type": "code",
   "execution_count": 5,
   "metadata": {
    "scrolled": true
   },
   "outputs": [
    {
     "name": "stderr",
     "output_type": "stream",
     "text": [
      "/data/LinYan/ai-challenger/generate_set.py:69: PerformanceWarning: indexing past lexsort depth may impact performance.\n",
      "  history_list.append(df.loc[station_id, forecast_date - pd.DateOffset(days=i)].iloc[:24])\n",
      "/data/LinYan/ai-challenger/generate_set.py:70: PerformanceWarning: indexing past lexsort depth may impact performance.\n",
      "  history = pd.concat(history_list + [df.loc[station_id, forecast_date]])\n",
      "/data/LinYan/ai-challenger/generate_set.py:154: PerformanceWarning: indexing past lexsort depth may impact performance.\n",
      "  history_list.append(df.loc[station_id, forecast_date - pd.DateOffset(days=i)].iloc[:24])\n",
      "/data/LinYan/ai-challenger/generate_set.py:157: PerformanceWarning: indexing past lexsort depth may impact performance.\n",
      "  h = normalize(pd.concat(history_list + [df.loc[station_id, forecast_date]]))\n"
     ]
    }
   ],
   "source": [
    "X, Y, dates = combine_periods(periods, all_raw, days=2)"
   ]
  },
  {
   "cell_type": "code",
   "execution_count": 9,
   "metadata": {},
   "outputs": [],
   "source": [
    "with open(os.path.join('train_data', '1015_1115_2.pkl'), 'wb') as pickle_file:\n",
    "    pickle.dump({'X': X, 'Y': Y, 'dates': dates}, pickle_file)"
   ]
  },
  {
   "cell_type": "code",
   "execution_count": 16,
   "metadata": {
    "scrolled": false
   },
   "outputs": [
    {
     "name": "stderr",
     "output_type": "stream",
     "text": [
      "/data/LinYan/ai-challenger/generate_set.py:69: PerformanceWarning: indexing past lexsort depth may impact performance.\n",
      "  history_list.append(df.loc[station_id, forecast_date - pd.DateOffset(days=i)].iloc[:24])\n",
      "/data/LinYan/ai-challenger/generate_set.py:70: PerformanceWarning: indexing past lexsort depth may impact performance.\n",
      "  history = pd.concat(history_list + [df.loc[station_id, forecast_date]])\n",
      "/data/LinYan/ai-challenger/generate_set.py:154: PerformanceWarning: indexing past lexsort depth may impact performance.\n",
      "  history_list.append(df.loc[station_id, forecast_date - pd.DateOffset(days=i)].iloc[:24])\n",
      "/data/LinYan/ai-challenger/generate_set.py:157: PerformanceWarning: indexing past lexsort depth may impact performance.\n",
      "  h = normalize(pd.concat(history_list + [df.loc[station_id, forecast_date]]))\n"
     ]
    }
   ],
   "source": [
    "X_va, Y_va, dates_va = combine_periods([('2018-10-01 03:00:00', '2018-10-30 03:00:00')], all_raw, days=2)"
   ]
  },
  {
   "cell_type": "code",
   "execution_count": 17,
   "metadata": {},
   "outputs": [],
   "source": [
    "with open(os.path.join('validation_data', '1001_1030_2.pkl'), 'wb') as pickle_file:\n",
    "    pickle.dump({'X': X_va, 'Y': Y_va, 'dates': dates_va}, pickle_file)"
   ]
  },
  {
   "cell_type": "code",
   "execution_count": null,
   "metadata": {},
   "outputs": [],
   "source": []
  }
 ],
 "metadata": {
  "kernelspec": {
   "display_name": "Python 3",
   "language": "python",
   "name": "python3"
  },
  "language_info": {
   "codemirror_mode": {
    "name": "ipython",
    "version": 3
   },
   "file_extension": ".py",
   "mimetype": "text/x-python",
   "name": "python",
   "nbconvert_exporter": "python",
   "pygments_lexer": "ipython3",
   "version": "3.6.6"
  }
 },
 "nbformat": 4,
 "nbformat_minor": 2
}
